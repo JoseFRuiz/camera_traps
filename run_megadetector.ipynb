{
 "cells": [
  {
   "cell_type": "markdown",
   "metadata": {},
   "source": [
    "# MegaDetector"
   ]
  },
  {
   "cell_type": "code",
   "execution_count": null,
   "metadata": {},
   "outputs": [],
   "source": [
    "import os\n",
    "import json\n",
    "import cv2\n",
    "import matplotlib.pyplot as plt\n",
    "import matplotlib.patches as patches\n",
    "from PIL import Image\n",
    "import numpy as np\n",
    "\n",
    "# Path to the MegaDetector code directory\n",
    "md_code_path = \"CameraTraps/detection\"\n",
    "\n",
    "# Path to the model we downloaded\n",
    "model_path = \"md_v5a.0.pb\""
   ]
  },
  {
   "cell_type": "code",
   "execution_count": null,
   "metadata": {},
   "outputs": [],
   "source": [
    "# Input image path\n",
    "image_path = 'D:/orinoquia_camera_traps_images/A06/100EK113/01210093.JPG'  # Replace with the actual path to your image\n",
    "\n",
    "# Output path for the image with bounding box\n",
    "output_path = \"detection_output.jpg\"\n",
    "\n",
    "# Function to run MegaDetector on a single image\n",
    "def run_megadetector_on_image(image_path, md_code_path, model_path):\n",
    "    output_json = \"detections.json\"\n",
    "\n",
    "    command = (f\"python {os.path.join(md_code_path, 'run_detector.py')} \"\n",
    "               f\"--detector_file {model_path} \"\n",
    "               f\"--image_file {image_path} \"\n",
    "               f\"--output_json {output_json}\")\n",
    "    os.system(command)\n",
    "    with open(output_json, 'r') as f:\n",
    "        detections = json.load(f)\n",
    "\n",
    "    return detections\n",
    "\n",
    "# Helper function to draw bounding boxes on images\n",
    "def draw_boxes(image_path, detections, output_path):\n",
    "    img = np.array(Image.open(image_path))\n",
    "\n",
    "    fig, ax = plt.subplots(1)\n",
    "    ax.imshow(img)\n",
    "    # Plot the bounding boxes\n",
    "    if(image_path in detections[\"images\"]):\n",
    "        for detection in detections[\"images\"][image_path]:\n",
    "              bbox = detection['bbox']\n",
    "              confidence = detection['confidence']\n",
    "              # Scale bounding box coordinates from [y1, x1, y2, x2] to image size\n",
    "              height, width, _ = img.shape\n",
    "              x1 = int(bbox[1] * width)\n",
    "              y1 = int(bbox[0] * height)\n",
    "              x2 = int(bbox[3] * width)\n",
    "              y2 = int(bbox[2] * height)\n",
    "              rect = patches.Rectangle((x1, y1), x2-x1, y2-y1, linewidth=2, edgecolor='r', facecolor='none')\n",
    "              ax.add_patch(rect)\n",
    "              ax.text(x1, y1 - 5, f'{confidence:.2f}', color='white', fontsize=8, backgroundcolor='r')\n",
    "    plt.savefig(output_path)\n",
    "    plt.close(fig)\n",
    "\n",
    "# Run MegaDetector on the image\n",
    "detections = run_megadetector_on_image(image_path, md_code_path, model_path)\n",
    "\n",
    "# Draw bounding boxes and save the output image\n",
    "draw_boxes(image_path, detections, output_path)\n",
    "\n",
    "print(f\"Saved detection to {output_path}\")"
   ]
  }
 ],
 "metadata": {
  "kernelspec": {
   "display_name": "myenv",
   "language": "python",
   "name": "python3"
  },
  "language_info": {
   "codemirror_mode": {
    "name": "ipython",
    "version": 3
   },
   "file_extension": ".py",
   "mimetype": "text/x-python",
   "name": "python",
   "nbconvert_exporter": "python",
   "pygments_lexer": "ipython3",
   "version": "3.11.2"
  }
 },
 "nbformat": 4,
 "nbformat_minor": 2
}
