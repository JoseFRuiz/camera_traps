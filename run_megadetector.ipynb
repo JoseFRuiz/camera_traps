{
 "cells": [
  {
   "cell_type": "markdown",
   "metadata": {},
   "source": [
    "# MegaDetector"
   ]
  },
  {
   "cell_type": "code",
   "execution_count": 3,
   "metadata": {},
   "outputs": [
    {
     "name": "stderr",
     "output_type": "stream",
     "text": [
      "Cloning into 'CameraTraps'...\n",
      "Updating files:  79% (663/838)\n",
      "Updating files:  80% (671/838)\n",
      "Updating files:  81% (679/838)\n",
      "Updating files:  82% (688/838)\n",
      "Updating files:  83% (696/838)\n",
      "Updating files:  84% (704/838)\n",
      "Updating files:  85% (713/838)\n",
      "Updating files:  86% (721/838)\n",
      "Updating files:  87% (730/838)\n",
      "Updating files:  88% (738/838)\n",
      "Updating files:  89% (746/838)\n",
      "Updating files:  90% (755/838)\n",
      "Updating files:  91% (763/838)\n",
      "Updating files:  92% (771/838)\n",
      "Updating files:  93% (780/838)\n",
      "Updating files:  94% (788/838)\n",
      "Updating files:  95% (797/838)\n",
      "Updating files:  96% (805/838)\n",
      "Updating files:  97% (813/838)\n",
      "Updating files:  98% (822/838)\n",
      "Updating files:  99% (830/838)\n",
      "Updating files: 100% (838/838)\n",
      "Updating files: 100% (838/838), done.\n"
     ]
    }
   ],
   "source": [
    "# Clone the MegaDetector repository\n",
    "!git clone https://github.com/microsoft/CameraTraps"
   ]
  },
  {
   "cell_type": "code",
   "execution_count": 5,
   "metadata": {},
   "outputs": [
    {
     "name": "stderr",
     "output_type": "stream",
     "text": [
      "'wget' is not recognized as an internal or external command,\n",
      "operable program or batch file.\n"
     ]
    }
   ],
   "source": [
    "# Download the pre-trained MegaDetector model\n",
    "!wget https://lilablobssc.blob.core.windows.net/megadetector/md_v5a.0.pb"
   ]
  },
  {
   "cell_type": "code",
   "execution_count": 1,
   "metadata": {},
   "outputs": [],
   "source": [
    "import os\n",
    "import json\n",
    "import cv2\n",
    "import matplotlib.pyplot as plt\n",
    "import matplotlib.patches as patches\n",
    "from PIL import Image\n",
    "import numpy as np\n",
    "\n",
    "# Path to the MegaDetector code directory\n",
    "md_code_path = \"CameraTraps/detection\"\n",
    "\n",
    "# Path to the model we downloaded\n",
    "model_path = \"md_v5a.0.pb\""
   ]
  },
  {
   "cell_type": "code",
   "execution_count": 2,
   "metadata": {},
   "outputs": [
    {
     "ename": "FileNotFoundError",
     "evalue": "[Errno 2] No such file or directory: 'detections.json'",
     "output_type": "error",
     "traceback": [
      "\u001b[1;31m---------------------------------------------------------------------------\u001b[0m",
      "\u001b[1;31mFileNotFoundError\u001b[0m                         Traceback (most recent call last)",
      "Cell \u001b[1;32mIn[2], line 45\u001b[0m\n\u001b[0;32m     42\u001b[0m     plt\u001b[38;5;241m.\u001b[39mclose(fig)\n\u001b[0;32m     44\u001b[0m \u001b[38;5;66;03m# Run MegaDetector on the image\u001b[39;00m\n\u001b[1;32m---> 45\u001b[0m detections \u001b[38;5;241m=\u001b[39m \u001b[43mrun_megadetector_on_image\u001b[49m\u001b[43m(\u001b[49m\u001b[43mimage_path\u001b[49m\u001b[43m,\u001b[49m\u001b[43m \u001b[49m\u001b[43mmd_code_path\u001b[49m\u001b[43m,\u001b[49m\u001b[43m \u001b[49m\u001b[43mmodel_path\u001b[49m\u001b[43m)\u001b[49m\n\u001b[0;32m     47\u001b[0m \u001b[38;5;66;03m# Draw bounding boxes and save the output image\u001b[39;00m\n\u001b[0;32m     48\u001b[0m draw_boxes(image_path, detections, output_path)\n",
      "Cell \u001b[1;32mIn[2], line 16\u001b[0m, in \u001b[0;36mrun_megadetector_on_image\u001b[1;34m(image_path, md_code_path, model_path)\u001b[0m\n\u001b[0;32m     11\u001b[0m command \u001b[38;5;241m=\u001b[39m (\u001b[38;5;124mf\u001b[39m\u001b[38;5;124m\"\u001b[39m\u001b[38;5;124mpython \u001b[39m\u001b[38;5;132;01m{\u001b[39;00mos\u001b[38;5;241m.\u001b[39mpath\u001b[38;5;241m.\u001b[39mjoin(md_code_path,\u001b[38;5;250m \u001b[39m\u001b[38;5;124m'\u001b[39m\u001b[38;5;124mrun_detector.py\u001b[39m\u001b[38;5;124m'\u001b[39m)\u001b[38;5;132;01m}\u001b[39;00m\u001b[38;5;124m \u001b[39m\u001b[38;5;124m\"\u001b[39m\n\u001b[0;32m     12\u001b[0m            \u001b[38;5;124mf\u001b[39m\u001b[38;5;124m\"\u001b[39m\u001b[38;5;124m--detector_file \u001b[39m\u001b[38;5;132;01m{\u001b[39;00mmodel_path\u001b[38;5;132;01m}\u001b[39;00m\u001b[38;5;124m \u001b[39m\u001b[38;5;124m\"\u001b[39m\n\u001b[0;32m     13\u001b[0m            \u001b[38;5;124mf\u001b[39m\u001b[38;5;124m\"\u001b[39m\u001b[38;5;124m--image_file \u001b[39m\u001b[38;5;132;01m{\u001b[39;00mimage_path\u001b[38;5;132;01m}\u001b[39;00m\u001b[38;5;124m \u001b[39m\u001b[38;5;124m\"\u001b[39m\n\u001b[0;32m     14\u001b[0m            \u001b[38;5;124mf\u001b[39m\u001b[38;5;124m\"\u001b[39m\u001b[38;5;124m--output_json \u001b[39m\u001b[38;5;132;01m{\u001b[39;00moutput_json\u001b[38;5;132;01m}\u001b[39;00m\u001b[38;5;124m\"\u001b[39m)\n\u001b[0;32m     15\u001b[0m os\u001b[38;5;241m.\u001b[39msystem(command)\n\u001b[1;32m---> 16\u001b[0m \u001b[38;5;28;01mwith\u001b[39;00m \u001b[38;5;28;43mopen\u001b[39;49m\u001b[43m(\u001b[49m\u001b[43moutput_json\u001b[49m\u001b[43m,\u001b[49m\u001b[43m \u001b[49m\u001b[38;5;124;43m'\u001b[39;49m\u001b[38;5;124;43mr\u001b[39;49m\u001b[38;5;124;43m'\u001b[39;49m\u001b[43m)\u001b[49m \u001b[38;5;28;01mas\u001b[39;00m f:\n\u001b[0;32m     17\u001b[0m     detections \u001b[38;5;241m=\u001b[39m json\u001b[38;5;241m.\u001b[39mload(f)\n\u001b[0;32m     19\u001b[0m \u001b[38;5;28;01mreturn\u001b[39;00m detections\n",
      "File \u001b[1;32mc:\\Users\\jfrui\\Documents\\mygits\\camera_traps\\venv\\Lib\\site-packages\\IPython\\core\\interactiveshell.py:324\u001b[0m, in \u001b[0;36m_modified_open\u001b[1;34m(file, *args, **kwargs)\u001b[0m\n\u001b[0;32m    317\u001b[0m \u001b[38;5;28;01mif\u001b[39;00m file \u001b[38;5;129;01min\u001b[39;00m {\u001b[38;5;241m0\u001b[39m, \u001b[38;5;241m1\u001b[39m, \u001b[38;5;241m2\u001b[39m}:\n\u001b[0;32m    318\u001b[0m     \u001b[38;5;28;01mraise\u001b[39;00m \u001b[38;5;167;01mValueError\u001b[39;00m(\n\u001b[0;32m    319\u001b[0m         \u001b[38;5;124mf\u001b[39m\u001b[38;5;124m\"\u001b[39m\u001b[38;5;124mIPython won\u001b[39m\u001b[38;5;124m'\u001b[39m\u001b[38;5;124mt let you open fd=\u001b[39m\u001b[38;5;132;01m{\u001b[39;00mfile\u001b[38;5;132;01m}\u001b[39;00m\u001b[38;5;124m by default \u001b[39m\u001b[38;5;124m\"\u001b[39m\n\u001b[0;32m    320\u001b[0m         \u001b[38;5;124m\"\u001b[39m\u001b[38;5;124mas it is likely to crash IPython. If you know what you are doing, \u001b[39m\u001b[38;5;124m\"\u001b[39m\n\u001b[0;32m    321\u001b[0m         \u001b[38;5;124m\"\u001b[39m\u001b[38;5;124myou can use builtins\u001b[39m\u001b[38;5;124m'\u001b[39m\u001b[38;5;124m open.\u001b[39m\u001b[38;5;124m\"\u001b[39m\n\u001b[0;32m    322\u001b[0m     )\n\u001b[1;32m--> 324\u001b[0m \u001b[38;5;28;01mreturn\u001b[39;00m \u001b[43mio_open\u001b[49m\u001b[43m(\u001b[49m\u001b[43mfile\u001b[49m\u001b[43m,\u001b[49m\u001b[43m \u001b[49m\u001b[38;5;241;43m*\u001b[39;49m\u001b[43margs\u001b[49m\u001b[43m,\u001b[49m\u001b[43m \u001b[49m\u001b[38;5;241;43m*\u001b[39;49m\u001b[38;5;241;43m*\u001b[39;49m\u001b[43mkwargs\u001b[49m\u001b[43m)\u001b[49m\n",
      "\u001b[1;31mFileNotFoundError\u001b[0m: [Errno 2] No such file or directory: 'detections.json'"
     ]
    }
   ],
   "source": [
    "# Input image path\n",
    "image_path = 'D:/orinoquia_camera_traps_images/A06/100EK113/01210093.JPG'  # Replace with the actual path to your image\n",
    "\n",
    "# Output path for the image with bounding box\n",
    "output_path = \"detection_output.jpg\"\n",
    "\n",
    "# Function to run MegaDetector on a single image\n",
    "def run_megadetector_on_image(image_path, md_code_path, model_path):\n",
    "    output_json = \"detections.json\"\n",
    "\n",
    "    command = (f\"python {os.path.join(md_code_path, 'run_detector.py')} \"\n",
    "               f\"--detector_file {model_path} \"\n",
    "               f\"--image_file {image_path} \"\n",
    "               f\"--output_json {output_json}\")\n",
    "    os.system(command)\n",
    "    with open(output_json, 'r') as f:\n",
    "        detections = json.load(f)\n",
    "\n",
    "    return detections\n",
    "\n",
    "# Helper function to draw bounding boxes on images\n",
    "def draw_boxes(image_path, detections, output_path):\n",
    "    img = np.array(Image.open(image_path))\n",
    "\n",
    "    fig, ax = plt.subplots(1)\n",
    "    ax.imshow(img)\n",
    "    # Plot the bounding boxes\n",
    "    if(image_path in detections[\"images\"]):\n",
    "        for detection in detections[\"images\"][image_path]:\n",
    "              bbox = detection['bbox']\n",
    "              confidence = detection['confidence']\n",
    "              # Scale bounding box coordinates from [y1, x1, y2, x2] to image size\n",
    "              height, width, _ = img.shape\n",
    "              x1 = int(bbox[1] * width)\n",
    "              y1 = int(bbox[0] * height)\n",
    "              x2 = int(bbox[3] * width)\n",
    "              y2 = int(bbox[2] * height)\n",
    "              rect = patches.Rectangle((x1, y1), x2-x1, y2-y1, linewidth=2, edgecolor='r', facecolor='none')\n",
    "              ax.add_patch(rect)\n",
    "              ax.text(x1, y1 - 5, f'{confidence:.2f}', color='white', fontsize=8, backgroundcolor='r')\n",
    "    plt.savefig(output_path)\n",
    "    plt.close(fig)\n",
    "\n",
    "# Run MegaDetector on the image\n",
    "detections = run_megadetector_on_image(image_path, md_code_path, model_path)\n",
    "\n",
    "# Draw bounding boxes and save the output image\n",
    "draw_boxes(image_path, detections, output_path)\n",
    "\n",
    "print(f\"Saved detection to {output_path}\")"
   ]
  }
 ],
 "metadata": {
  "kernelspec": {
   "display_name": "venv",
   "language": "python",
   "name": "python3"
  },
  "language_info": {
   "codemirror_mode": {
    "name": "ipython",
    "version": 3
   },
   "file_extension": ".py",
   "mimetype": "text/x-python",
   "name": "python",
   "nbconvert_exporter": "python",
   "pygments_lexer": "ipython3",
   "version": "3.11.2"
  }
 },
 "nbformat": 4,
 "nbformat_minor": 2
}
